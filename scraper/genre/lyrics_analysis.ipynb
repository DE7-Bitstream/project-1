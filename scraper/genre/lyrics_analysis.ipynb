{
 "cells": [
  {
   "cell_type": "code",
   "execution_count": 1,
   "id": "dfc8539f-a0be-4a0f-88e5-da485b4a8b19",
   "metadata": {
    "scrolled": true
   },
   "outputs": [
    {
     "name": "stdout",
     "output_type": "stream",
     "text": [
      "Requirement already satisfied: pandas in /opt/homebrew/Cellar/jupyterlab/4.4.9/libexec/lib/python3.13/site-packages (2.3.3)\n",
      "Requirement already satisfied: konlpy in /opt/homebrew/Cellar/jupyterlab/4.4.9/libexec/lib/python3.13/site-packages (0.6.0)\n",
      "Requirement already satisfied: tqdm in /opt/homebrew/Cellar/jupyterlab/4.4.9/libexec/lib/python3.13/site-packages (4.67.1)\n",
      "Requirement already satisfied: numpy>=1.26.0 in /opt/homebrew/Cellar/jupyterlab/4.4.9/libexec/lib/python3.13/site-packages (from pandas) (2.3.3)\n",
      "Requirement already satisfied: python-dateutil>=2.8.2 in /opt/homebrew/Cellar/jupyterlab/4.4.9/libexec/lib/python3.13/site-packages (from pandas) (2.9.0.post0)\n",
      "Requirement already satisfied: pytz>=2020.1 in /opt/homebrew/Cellar/jupyterlab/4.4.9/libexec/lib/python3.13/site-packages (from pandas) (2025.2)\n",
      "Requirement already satisfied: tzdata>=2022.7 in /opt/homebrew/Cellar/jupyterlab/4.4.9/libexec/lib/python3.13/site-packages (from pandas) (2025.2)\n",
      "Requirement already satisfied: JPype1>=0.7.0 in /opt/homebrew/Cellar/jupyterlab/4.4.9/libexec/lib/python3.13/site-packages (from konlpy) (1.6.0)\n",
      "Requirement already satisfied: lxml>=4.1.0 in /opt/homebrew/Cellar/jupyterlab/4.4.9/libexec/lib/python3.13/site-packages (from konlpy) (6.0.2)\n",
      "Requirement already satisfied: packaging in /opt/homebrew/Cellar/jupyterlab/4.4.9/libexec/lib/python3.13/site-packages (from JPype1>=0.7.0->konlpy) (25.0)\n",
      "Requirement already satisfied: six>=1.5 in /opt/homebrew/Cellar/jupyterlab/4.4.9/libexec/lib/python3.13/site-packages (from python-dateutil>=2.8.2->pandas) (1.17.0)\n",
      "Note: you may need to restart the kernel to use updated packages.\n"
     ]
    }
   ],
   "source": [
    "pip install pandas konlpy tqdm "
   ]
  },
  {
   "cell_type": "code",
   "execution_count": 2,
   "id": "dc1c6497-8b73-40da-994e-4258e61a921b",
   "metadata": {},
   "outputs": [
    {
     "name": "stdout",
     "output_type": "stream",
     "text": [
      "Requirement already satisfied: wordcloud in /opt/homebrew/Cellar/jupyterlab/4.4.9/libexec/lib/python3.13/site-packages (1.9.4)\n",
      "Requirement already satisfied: matplotlib in /opt/homebrew/Cellar/jupyterlab/4.4.9/libexec/lib/python3.13/site-packages (3.10.6)\n",
      "Requirement already satisfied: numpy>=1.6.1 in /opt/homebrew/Cellar/jupyterlab/4.4.9/libexec/lib/python3.13/site-packages (from wordcloud) (2.3.3)\n",
      "Requirement already satisfied: pillow in /opt/homebrew/Cellar/jupyterlab/4.4.9/libexec/lib/python3.13/site-packages (from wordcloud) (11.3.0)\n",
      "Requirement already satisfied: contourpy>=1.0.1 in /opt/homebrew/Cellar/jupyterlab/4.4.9/libexec/lib/python3.13/site-packages (from matplotlib) (1.3.3)\n",
      "Requirement already satisfied: cycler>=0.10 in /opt/homebrew/Cellar/jupyterlab/4.4.9/libexec/lib/python3.13/site-packages (from matplotlib) (0.12.1)\n",
      "Requirement already satisfied: fonttools>=4.22.0 in /opt/homebrew/Cellar/jupyterlab/4.4.9/libexec/lib/python3.13/site-packages (from matplotlib) (4.60.1)\n",
      "Requirement already satisfied: kiwisolver>=1.3.1 in /opt/homebrew/Cellar/jupyterlab/4.4.9/libexec/lib/python3.13/site-packages (from matplotlib) (1.4.9)\n",
      "Requirement already satisfied: packaging>=20.0 in /opt/homebrew/Cellar/jupyterlab/4.4.9/libexec/lib/python3.13/site-packages (from matplotlib) (25.0)\n",
      "Requirement already satisfied: pyparsing>=2.3.1 in /opt/homebrew/Cellar/jupyterlab/4.4.9/libexec/lib/python3.13/site-packages (from matplotlib) (3.2.5)\n",
      "Requirement already satisfied: python-dateutil>=2.7 in /opt/homebrew/Cellar/jupyterlab/4.4.9/libexec/lib/python3.13/site-packages (from matplotlib) (2.9.0.post0)\n",
      "Requirement already satisfied: six>=1.5 in /opt/homebrew/Cellar/jupyterlab/4.4.9/libexec/lib/python3.13/site-packages (from python-dateutil>=2.7->matplotlib) (1.17.0)\n",
      "Note: you may need to restart the kernel to use updated packages.\n"
     ]
    }
   ],
   "source": [
    "pip install wordcloud matplotlib"
   ]
  },
  {
   "cell_type": "code",
   "execution_count": 3,
   "id": "06091250-d51b-4d6b-819b-9676bbac1d7a",
   "metadata": {},
   "outputs": [],
   "source": [
    "import os\n",
    "import re\n",
    "import gc\n",
    "import time\n",
    "import pandas as pd\n",
    "from konlpy.tag import Okt\n",
    "from tqdm import tqdm"
   ]
  },
  {
   "cell_type": "code",
   "execution_count": 11,
   "id": "608b773b-6a98-4e08-9da3-bf1f8b04291e",
   "metadata": {},
   "outputs": [],
   "source": [
    "# 설정 (경로 수정)\n",
    "INPUT_CSV = \"csv/melon_genre_steady_songs_with_lyrics.csv\"\n",
    "OUT_CSV   = \"csv/melon_song_words.csv\"\n",
    "BATCH_SLEEP = 0.05   # 각 곡 처리 후 짧게 쉬기\n",
    "SAVE_EVERY = 50      # 이 값만큼 곡 처리할 때마다 파일에 한번 더 flush(안전성)\n",
    "\n",
    "EN_STOP = {\"the\",\"and\",\"a\",\"to\",\"of\",\"in\",\"on\",\"for\",\"you\",\"i\",\"me\",\"my\",\"is\",\"it\",\"we\",\"be\",\"that\",\"this\"}\n",
    "KO_STOP = {\"나\",\"너\",\"우리\",\"그대\",\"너희\",\"이\",\"그\",\"저\",\"그것\",\"이것\",\"저것\",\"너의\",\"하다\",\"있다\",\"없다\",\"같다\",\"않다\"}\n",
    "okt = Okt()"
   ]
  },
  {
   "cell_type": "code",
   "execution_count": 12,
   "id": "ccdc7979-d1aa-4e17-97e3-099d1f33f820",
   "metadata": {},
   "outputs": [
    {
     "name": "stdout",
     "output_type": "stream",
     "text": [
      "Requirement already satisfied: wordcloud in /opt/homebrew/Cellar/jupyterlab/4.4.9/libexec/lib/python3.13/site-packages (1.9.4)\n",
      "Requirement already satisfied: matplotlib in /opt/homebrew/Cellar/jupyterlab/4.4.9/libexec/lib/python3.13/site-packages (3.10.6)\n",
      "Requirement already satisfied: numpy>=1.6.1 in /opt/homebrew/Cellar/jupyterlab/4.4.9/libexec/lib/python3.13/site-packages (from wordcloud) (2.3.3)\n",
      "Requirement already satisfied: pillow in /opt/homebrew/Cellar/jupyterlab/4.4.9/libexec/lib/python3.13/site-packages (from wordcloud) (11.3.0)\n",
      "Requirement already satisfied: contourpy>=1.0.1 in /opt/homebrew/Cellar/jupyterlab/4.4.9/libexec/lib/python3.13/site-packages (from matplotlib) (1.3.3)\n",
      "Requirement already satisfied: cycler>=0.10 in /opt/homebrew/Cellar/jupyterlab/4.4.9/libexec/lib/python3.13/site-packages (from matplotlib) (0.12.1)\n",
      "Requirement already satisfied: fonttools>=4.22.0 in /opt/homebrew/Cellar/jupyterlab/4.4.9/libexec/lib/python3.13/site-packages (from matplotlib) (4.60.1)\n",
      "Requirement already satisfied: kiwisolver>=1.3.1 in /opt/homebrew/Cellar/jupyterlab/4.4.9/libexec/lib/python3.13/site-packages (from matplotlib) (1.4.9)\n",
      "Requirement already satisfied: packaging>=20.0 in /opt/homebrew/Cellar/jupyterlab/4.4.9/libexec/lib/python3.13/site-packages (from matplotlib) (25.0)\n",
      "Requirement already satisfied: pyparsing>=2.3.1 in /opt/homebrew/Cellar/jupyterlab/4.4.9/libexec/lib/python3.13/site-packages (from matplotlib) (3.2.5)\n",
      "Requirement already satisfied: python-dateutil>=2.7 in /opt/homebrew/Cellar/jupyterlab/4.4.9/libexec/lib/python3.13/site-packages (from matplotlib) (2.9.0.post0)\n",
      "Requirement already satisfied: six>=1.5 in /opt/homebrew/Cellar/jupyterlab/4.4.9/libexec/lib/python3.13/site-packages (from python-dateutil>=2.7->matplotlib) (1.17.0)\n",
      "Note: you may need to restart the kernel to use updated packages.\n"
     ]
    }
   ],
   "source": [
    "pip install wordcloud matplotlib\n"
   ]
  },
  {
   "cell_type": "code",
   "execution_count": 13,
   "id": "65c0d0ac-5b55-48f0-85b7-b8e35eee96b3",
   "metadata": {},
   "outputs": [
    {
     "name": "stderr",
     "output_type": "stream",
     "text": [
      "Processing 발라드: 100%|█████████████████████| 200/200 [00:00<00:00, 202.95it/s]\n",
      "Processing 댄스: 100%|███████████████████████| 200/200 [00:01<00:00, 180.05it/s]\n",
      "Processing 랩/힙합: 100%|████████████████████| 200/200 [00:01<00:00, 133.26it/s]\n",
      "Processing 록/메탈: 100%|████████████████████| 200/200 [00:00<00:00, 243.89it/s]\n"
     ]
    },
    {
     "name": "stdout",
     "output_type": "stream",
     "text": [
      "[INFO] 전체 17820개의 단어 추출 완료\n",
      "✅ '댄스' 장르 워드클라우드 저장 완료 → wordcloud_댄스.png\n",
      "✅ '랩/힙합' 장르 워드클라우드 저장 완료 → wordcloud_랩_힙합.png\n",
      "✅ '록/메탈' 장르 워드클라우드 저장 완료 → wordcloud_록_메탈.png\n",
      "✅ '발라드' 장르 워드클라우드 저장 완료 → wordcloud_발라드.png\n"
     ]
    }
   ],
   "source": [
    "from collections import Counter\n",
    "from wordcloud import WordCloud\n",
    "\n",
    "def extract_words_light(lyrics: str):\n",
    "    \"\"\"\n",
    "    한 곡 처리:\n",
    "     - 한국어: 명사/동사/형용사만 추출, 한 글자 제거, KO_STOP 제거\n",
    "     - 영어: 정규표현식 토큰화, 소문자화, EN_STOP 제거\n",
    "    \"\"\"\n",
    "    if not isinstance(lyrics, str) or not lyrics.strip():\n",
    "        return []\n",
    "\n",
    "    text = re.sub(r\"[^가-힣A-Za-z\\s]\", \" \", lyrics)\n",
    "    words = []\n",
    "\n",
    "    # 한국어\n",
    "    ko_text = \" \".join(re.findall(r\"[가-힣]+\", text))\n",
    "    if ko_text:\n",
    "        try:\n",
    "            tokens = okt.pos(ko_text, stem=True)\n",
    "            for w, pos in tokens:\n",
    "                w = w.replace(\"\\u200b\", \"\").strip()\n",
    "\n",
    "                if pos in (\"Noun\",\"Verb\",\"Adjective\") and len(w) > 1 and w not in KO_STOP:\n",
    "                    words.append(w.strip())   # ✅ (변경됨)\n",
    "        except Exception:\n",
    "            pass\n",
    "\n",
    "    # 영어\n",
    "    en_text = \" \".join(re.findall(r\"[A-Za-z]+\", text))\n",
    "    if en_text:\n",
    "        en_tokens = re.findall(r\"[A-Za-z]{2,}\", en_text)\n",
    "        for t in en_tokens:\n",
    "            t = t.lower().strip()\n",
    "            if t not in EN_STOP:\n",
    "                words.append(t)\n",
    "\n",
    "    return words\n",
    "\n",
    "\n",
    "# -----------------------\n",
    "# CSV 읽고 전체 단어 모으기\n",
    "# -----------------------\n",
    "df = pd.read_csv(INPUT_CSV)\n",
    "genres = df['genre'].unique()\n",
    "for i, genre in enumerate(genres, 1):   # i 자동 증가\n",
    "    group = df[df['genre'] == genre]\n",
    "    all_words = []\n",
    "    for idx, row in tqdm(group.iterrows(), total=len(group), desc=f\"Processing {genre}\"):\n",
    "        lyrics = row.get(\"lyrics\", \"\")\n",
    "        words = extract_words_light(lyrics)\n",
    "        all_words.extend(words)\n",
    "\n",
    "print(f\"[INFO] 전체 {len(all_words)}개의 단어 추출 완료\")\n",
    "\n",
    "\n",
    "# -----------------------\n",
    "# 워드클라우드 생성\n",
    "# -----------------------\n",
    "import matplotlib.pyplot as plt\n",
    "import matplotlib.font_manager as fm\n",
    "\n",
    "# 🔄 변경: 장르별로 그룹을 돌면서 워드클라우드 생성 및 저장\n",
    "for genre, group in df.groupby(\"genre\"):   # ✅ genre 기준으로 그룹핑\n",
    "    all_words = []\n",
    "    for idx, row in group.iterrows():\n",
    "        lyrics = row.get(\"lyrics\", \"\")\n",
    "        words = extract_words_light(lyrics)\n",
    "        all_words.extend(words)\n",
    "\n",
    "    if not all_words:\n",
    "        print(f\"[WARN] 장르 '{genre}' 단어 없음 → 스킵\")\n",
    "        continue\n",
    "\n",
    "    # ✅ Counter로 단어 빈도 집계\n",
    "    word_freq = Counter(all_words)\n",
    "\n",
    "    # ✅ 빈도 기반 워드클라우드 생성\n",
    "    wc = WordCloud(\n",
    "        font_path=\"Pretendard-ExtraBold.otf\",\n",
    "        width=800, height=400,\n",
    "        background_color=\"white\"\n",
    "    ).generate_from_frequencies(word_freq)\n",
    "\n",
    "    # ✅ 장르별 파일로 저장\n",
    "    safe_genre = re.sub(r'[\\/:*?\"<>|]', \"_\", str(genre))\n",
    "    save_path = f\"wordcloud_{safe_genre}.png\"\n",
    "    wc.to_file(save_path)\n",
    "\n",
    "    print(f\"✅ '{genre}' 장르 워드클라우드 저장 완료 → {save_path}\")"
   ]
  },
  {
   "cell_type": "code",
   "execution_count": null,
   "id": "43bf7e10-b3c3-46e4-90de-acfc811b37d8",
   "metadata": {},
   "outputs": [],
   "source": []
  }
 ],
 "metadata": {
  "kernelspec": {
   "display_name": "Python 3 (ipykernel)",
   "language": "python",
   "name": "python3"
  },
  "language_info": {
   "codemirror_mode": {
    "name": "ipython",
    "version": 3
   },
   "file_extension": ".py",
   "mimetype": "text/x-python",
   "name": "python",
   "nbconvert_exporter": "python",
   "pygments_lexer": "ipython3",
   "version": "3.13.7"
  }
 },
 "nbformat": 4,
 "nbformat_minor": 5
}
